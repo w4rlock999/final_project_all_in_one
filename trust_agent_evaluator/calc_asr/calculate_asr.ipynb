{
 "cells": [
  {
   "cell_type": "code",
   "execution_count": 5,
   "metadata": {},
   "outputs": [],
   "source": [
    "import json\n",
    "import os\n",
    "\n",
    "def calculate_success_rate(jailbreaks):\n",
    "    \"\"\"Calculate success rate from a list of jailbreak judge outputs\"\"\"\n",
    "    success_count = sum(1 for jb in jailbreaks if jb[\"judge_output\"] == \"1\")\n",
    "    return success_count / len(jailbreaks)\n",
    "\n",
    "def calculate_all_asr():\n",
    "    # Read the jailbreak judge results\n",
    "    with open(\"../data/jailbreak_judge_result.json\", \"r\") as f:\n",
    "        jb_results = json.load(f)\n",
    "    \n",
    "    # Read the agentic graph\n",
    "    with open(\"../data/agentic_graph.json\", \"r\") as f:\n",
    "        agentic_graph = json.load(f)\n",
    "    \n",
    "    # Create a mapping of node IDs to success rates\n",
    "    success_rates = {}\n",
    "    for node in jb_results[\"nodes\"]:\n",
    "        success_rates[node[\"id\"]] = calculate_success_rate(node[\"jailbreaks\"])\n",
    "    \n",
    "    # Add success rates to the agentic graph nodes\n",
    "    for node in agentic_graph[\"nodes\"]:\n",
    "        if node[\"id\"] in success_rates:\n",
    "            node[\"jailbreak_success_rate\"] = success_rates[node[\"id\"]]\n",
    "    \n",
    "    # Save the updated graph\n",
    "    with open(\"../data/agentic_graph_with_jb.json\", \"w\") as f:\n",
    "        json.dump(agentic_graph, f, indent=2)"
   ]
  },
  {
   "cell_type": "code",
   "execution_count": 6,
   "metadata": {},
   "outputs": [],
   "source": [
    "calculate_all_asr()"
   ]
  }
 ],
 "metadata": {
  "kernelspec": {
   "display_name": "Python 3",
   "language": "python",
   "name": "python3"
  },
  "language_info": {
   "codemirror_mode": {
    "name": "ipython",
    "version": 3
   },
   "file_extension": ".py",
   "mimetype": "text/x-python",
   "name": "python",
   "nbconvert_exporter": "python",
   "pygments_lexer": "ipython3",
   "version": "3.11.9"
  }
 },
 "nbformat": 4,
 "nbformat_minor": 2
}
