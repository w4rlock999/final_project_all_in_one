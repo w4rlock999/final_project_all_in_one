{
 "cells": [
  {
   "cell_type": "code",
   "execution_count": null,
   "metadata": {
    "vscode": {
     "languageId": "plaintext"
    }
   },
   "outputs": [],
   "source": [
    "baseline_prompt = PromptTemplate.from_template(\"\"\"HUMAN\\n\n",
    "                                               You are an assistant for question-answering tasks. Use the following pieces of retrieved context to answer the question. If you don't know the answer, just say that you don't know. Use three sentences maximum and keep the answer concise.\\n\n",
    "                                               Question: {question}\\n \n",
    "                                               Context: {context}\\n \n",
    "                                               Answer:\n",
    "                                               \"\"\")\n",
    "\n",
    "class ResponseGeneration:\n",
    "    class State(TypedDict):\n",
    "        question : str\n",
    "        context : List[Document]\n",
    "        answer: str\n",
    "\n",
    "    def __init__(self, prompt: PromptTemplate, model = \"gpt-4o-mini\", temperature = 0.2, top_p = 0.6):\n",
    "        self.llm = ChatOpenAI(model=model, temperature=temperature, top_p=top_p)\n",
    "        self.prompt = prompt\n",
    "\n",
    "        graph_builder = StateGraph(self.State)\n",
    "        graph_builder.add_sequence([self.generate])\n",
    "        graph_builder.add_edge(START, \"generate\")\n",
    "        self.graph = graph_builder.compile()\n",
    "\n",
    "    def generate(self, state : State):\n",
    "        context_doc_message = \"\\n\\n\".join(doc for doc in state[\"context\"])\n",
    "        message = self.prompt.invoke({\"question\":state[\"question\"], \"context\":context_doc_message})\n",
    "        response = self.llm.invoke(message)\n",
    "\n",
    "        return({\"answer\":response})"
   ]
  }
 ],
 "metadata": {
  "language_info": {
   "name": "python"
  }
 },
 "nbformat": 4,
 "nbformat_minor": 2
}
