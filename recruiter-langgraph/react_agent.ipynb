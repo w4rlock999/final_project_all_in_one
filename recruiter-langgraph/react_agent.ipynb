{
 "cells": [
  {
   "cell_type": "markdown",
   "metadata": {},
   "source": [
    "# Sourcing Agent Prototype using LangGraph\n"
   ]
  },
  {
   "cell_type": "code",
   "execution_count": 1,
   "metadata": {},
   "outputs": [],
   "source": [
    "import os\n",
    "import json\n",
    "import random\n",
    "from collections import defaultdict\n",
    "from typing import List, Tuple\n",
    "\n",
    "from dotenv import load_dotenv\n",
    "from langchain_openai import ChatOpenAI\n",
    "from langchain_openai import OpenAIEmbeddings\n",
    "# from langchain_chroma import Chroma\n",
    "from langchain_core.documents import Document\n",
    "from langchain_text_splitters import RecursiveCharacterTextSplitter\n",
    "from langgraph.graph import START, StateGraph\n",
    "from langchain_core.prompts import PromptTemplate\n",
    "from typing_extensions import List, TypedDict\n",
    "\n",
    "\n",
    "load_dotenv()\n",
    "os.environ.get(\"OPENAI_API_KEY\")\n",
    "\n",
    "llm = ChatOpenAI(model=\"gpt-4o-mini\")"
   ]
  },
  {
   "cell_type": "code",
   "execution_count": 2,
   "metadata": {},
   "outputs": [],
   "source": [
    "\n",
    "prompt = PromptTemplate.from_template(\"\"\"HUMAN\\n\n",
    "                                               You are a useful assistant. Answer as best as you can the question below, with maximum of one sentence. Be concise!\\n\n",
    "                                               Question: {question}\\n                                                \n",
    "                                               Answer:\n",
    "                                               \"\"\")\n",
    "\n",
    "\n",
    "class State(TypedDict):\n",
    "    question : str\n",
    "    # context : List[Document]\n",
    "    answer: str\n",
    "\n",
    "def generate(state : State):\n",
    "    message = prompt.invoke({\"question\":state[\"question\"]})\n",
    "    response = llm.invoke(message)\n",
    "    return({\"answer\":response})\n",
    "\n",
    "graph_builder = StateGraph(State)\n",
    "graph_builder.add_sequence([generate])\n",
    "graph_builder.add_edge(START, \"generate\")\n",
    "graph = graph_builder.compile()"
   ]
  },
  {
   "cell_type": "code",
   "execution_count": 9,
   "metadata": {},
   "outputs": [],
   "source": [
    "output = graph.invoke({\"question\":\"when is London become the capital of United Kingdom\"})"
   ]
  },
  {
   "cell_type": "code",
   "execution_count": 12,
   "metadata": {},
   "outputs": [
    {
     "name": "stdout",
     "output_type": "stream",
     "text": [
      "London became the capital of the United Kingdom in the 13th century, specifically around the time of King Edward I's reign in the late 1200s.\n"
     ]
    }
   ],
   "source": [
    "print(output['answer'].content)"
   ]
  },
  {
   "cell_type": "code",
   "execution_count": 13,
   "metadata": {},
   "outputs": [
    {
     "data": {
      "image/png": "[encoded data removed]",
      "text/plain": [
       "<IPython.core.display.Image object>"
      ]
     },
     "metadata": {},
     "output_type": "display_data"
    }
   ],
   "source": [
    "from IPython.display import Image, display\n",
    "\n",
    "try:\n",
    "    display(Image(graph.get_graph(xray=True).draw_mermaid_png()))\n",
    "except Exception:\n",
    "    # This requires some extra dependencies and is optional\n",
    "    pass"
   ]
  },
  {
   "cell_type": "markdown",
   "metadata": {},
   "source": [
    "## ReAct Agent"
   ]
  },
  {
   "cell_type": "code",
   "execution_count": 15,
   "metadata": {},
   "outputs": [],
   "source": [
    "def multiply(a: int, b: int) -> int:\n",
    "    \"\"\"Multiply a and b.\n",
    "\n",
    "    Args:\n",
    "        a: first int\n",
    "        b: second int\n",
    "    \"\"\"\n",
    "    return a * b\n",
    "\n",
    "# This will be a tool\n",
    "def add(a: int, b: int) -> int:\n",
    "    \"\"\"Adds a and b.\n",
    "\n",
    "    Args:\n",
    "        a: first int\n",
    "        b: second int\n",
    "    \"\"\"\n",
    "    return a + b\n",
    "\n",
    "def divide(a: int, b: int) -> float:\n",
    "    \"\"\"Divide a and b.\n",
    "\n",
    "    Args:\n",
    "        a: first int\n",
    "        b: second int\n",
    "    \"\"\"\n",
    "    return a / b\n",
    "\n",
    "# search tools\n",
    "from langchain_community.tools import DuckDuckGoSearchRun\n",
    "search = DuckDuckGoSearchRun()\n",
    "\n"
   ]
  },
  {
   "cell_type": "code",
   "execution_count": 16,
   "metadata": {},
   "outputs": [
    {
     "data": {
      "text/plain": [
       "\"Leonardo DiCaprio (born November 11, 1974, Los Angeles, California, U.S.) is an American actor and producer who emerged in the 1990s as one of Hollywood's leading performers, noted for his portrayals of unconventional and complex characters.. DiCaprio first acted at age five, performing on the children's television show Romper Room, and, as a teenager, he made numerous commercials and ... Leonardo DiCaprio kept a low profile in a face mask and baseball cap as he exited a star-studded dinner bash at Frame in Paris on Saturday night.. The Hollywood actor, 50, attempted to make a low ... Leonardo DiCaprio, born Nov 11, 1974, in LA, is an acclaimed actor with a $300M net worth. Known for roles in Titanic & The Revenant, he has won an Oscar & 3 Golden Globes. Famous for high-profile relationships, his focus remains on his film career Leonardo DiCaprio's estimated net worth is approximately $300 million, reflecting his success as one of Hollywood's most sought-after leading men. Throughout his illustrious career, DiCaprio has commanded impressive salaries, often earning around $20 million per role. His financial acumen is evident in his strategic choices, including the ... Leonardo DiCaprio is an American actor known for his portrayals of unconventional and complex characters. His notable movies include This Boy's Life (1993), What's Eating Gilbert Grape (1993), Titanic (1997), The Aviator (2004), The Departed (2006), Inception (2010), The Wolf of Wall Street (2013), The Revenant (2015), Once Upon a Time…in Hollywood (2019), and Killers of the Flower Moon ...\""
      ]
     },
     "execution_count": 16,
     "metadata": {},
     "output_type": "execute_result"
    }
   ],
   "source": [
    "search.invoke(\"who is leonardo dicaprio?\")"
   ]
  },
  {
   "cell_type": "code",
   "execution_count": 19,
   "metadata": {},
   "outputs": [],
   "source": [
    "from langgraph.graph import MessagesState\n",
    "from langchain_core.messages import HumanMessage, SystemMessage\n",
    "\n",
    "tools = [add, multiply, divide, search]\n",
    "llm_with_tools = llm.bind_tools(tools)\n",
    "\n",
    "sys_msg = SystemMessage(content=\"You are a helpful assistant tasked with using search and performing arithmetic on a set of inputs\")\n",
    "\n",
    "def reasoner(state: MessagesState):\n",
    "    return {\"messages\": [llm_with_tools.invoke([sys_msg] + state[\"messages\"])]}"
   ]
  },
  {
   "cell_type": "code",
   "execution_count": 26,
   "metadata": {},
   "outputs": [
    {
     "data": {
      "image/png": "[encoded data removed]",
      "text/plain": [
       "<IPython.core.display.Image object>"
      ]
     },
     "metadata": {},
     "output_type": "display_data"
    }
   ],
   "source": [
    "from langgraph.graph import START, StateGraph\n",
    "from langgraph.prebuilt import tools_condition\n",
    "from langgraph.prebuilt import ToolNode\n",
    "from IPython.display import Image, display\n",
    "\n",
    "builder = StateGraph(MessagesState)\n",
    "\n",
    "builder.add_node(\"reasoner\", reasoner)\n",
    "builder.add_node(\"tools\", ToolNode(tools))\n",
    "\n",
    "builder.add_edge(START, \"reasoner\") \n",
    "builder.add_conditional_edges(\n",
    "    \"reasoner\", \n",
    "    tools_condition\n",
    ")\n",
    "builder.add_edge(\"tools\", \"reasoner\")\n",
    "react_graph = builder.compile()\n",
    "\n",
    "display(Image(react_graph.get_graph(xray=True).draw_mermaid_png()))"
   ]
  },
  {
   "cell_type": "code",
   "execution_count": 23,
   "metadata": {},
   "outputs": [],
   "source": [
    "messages = [HumanMessage(content=\"What is 2 times height of the Eiffel Tower?\")]\n",
    "messages = react_graph.invoke({\"messages\": messages})   "
   ]
  },
  {
   "cell_type": "code",
   "execution_count": 24,
   "metadata": {},
   "outputs": [
    {
     "name": "stdout",
     "output_type": "stream",
     "text": [
      "================================\u001b[1m Human Message \u001b[0m=================================\n",
      "\n",
      "What is 2 times height of the Eiffel Tower?\n",
      "==================================\u001b[1m Ai Message \u001b[0m==================================\n",
      "Tool Calls:\n",
      "  duckduckgo_search (call_DVEanIK58vldejndnNZ9p2bP)\n",
      " Call ID: call_DVEanIK58vldejndnNZ9p2bP\n",
      "  Args:\n",
      "    query: height of the Eiffel Tower in meters\n",
      "=================================\u001b[1m Tool Message \u001b[0m=================================\n",
      "Name: duckduckgo_search\n",
      "\n",
      "The Eiffel Tower, in Paris, France, reaches a height of 330 meters (1,083 feet). Completed in 1889 by engineer Gustave Eiffel, this iron lattice structure is the tallest in the city. Known as La Tour Eiffel, it symbolizes Paris and draws millions of visitors each year. The Eiffel Tower Height Originally 300 meters (984 feet) tall, the Eiffel Tower now stands at 330 meters (1,083 feet) due to the addition of antennas. The Eiffel Tower Construction Period Built ... The official height of the Eiffel Tower is 984 feet. However, if you include the broadcast antenna that now sits at the top, the entire tower measures approximately 1,083 feet. It recently had an upgraded antenna installed in 2022, which is six feet taller than the one it replaced. This means the entire monument is now the tallest it has ever been! The Eiffel Tower Height. The Eiffel Tower measures approximately 324 meters (1,063 feet) from the ground to the tip of its original structure. However, with the addition of broadcasting antennas at the top of the tower, the total Eiffel Tower height has been brought to about 324 meters (1,063 feet). This addition ensures the Eiffel Tower remains a significant presence in the Paris skyline ... The Eiffel Tower, one of the world's most iconic landmarks, stands tall at the height of 330 meters (1,083 feet) in the heart of Paris, France. The Eiffel Tower has three levels open to the public, providing breathtaking panoramic views, thrilling experiences, and a glimpse into the tower's fascinating history.\n",
      "==================================\u001b[1m Ai Message \u001b[0m==================================\n",
      "Tool Calls:\n",
      "  multiply (call_klOOxcvztw9x2HMBhNZAHjOi)\n",
      " Call ID: call_klOOxcvztw9x2HMBhNZAHjOi\n",
      "  Args:\n",
      "    a: 2\n",
      "    b: 330\n",
      "=================================\u001b[1m Tool Message \u001b[0m=================================\n",
      "Name: multiply\n",
      "\n",
      "660\n",
      "==================================\u001b[1m Ai Message \u001b[0m==================================\n",
      "\n",
      "2 times the height of the Eiffel Tower (330 meters) is 660 meters.\n"
     ]
    }
   ],
   "source": [
    "for m in messages['messages']:\n",
    "    m.pretty_print()"
   ]
  },
  {
   "cell_type": "markdown",
   "metadata": {},
   "source": [
    "## Supposedly more \"manual\" way of building ReAct Agent (I am not sure tho)"
   ]
  },
  {
   "cell_type": "code",
   "execution_count": 27,
   "metadata": {},
   "outputs": [],
   "source": [
    "def reasoner2(state):\n",
    "    query = state[\"query\"]\n",
    "    messages = state[\"messages\"]\n",
    "    sys_msg = SystemMessage(content=\"You are a helpful assistant tasked with using search, and performing arithmetic on a set of inputs.\")\n",
    "    message = HumanMessage(content=query)\n",
    "    messages.append(message)\n",
    "    result = [llm_with_tools.invoke([sys_msg] + messages)]\n",
    "    return {\"messages\": result}\n",
    "\n"
   ]
  },
  {
   "cell_type": "code",
   "execution_count": 28,
   "metadata": {},
   "outputs": [],
   "source": [
    "tools = [add, multiply, divide, search]\n",
    "\n",
    "llm2 = ChatOpenAI(model=\"gpt-4o-mini\")\n",
    "llm_with_tools2 = llm2.bind_tools(tools)\n",
    "\n"
   ]
  },
  {
   "cell_type": "code",
   "execution_count": 29,
   "metadata": {},
   "outputs": [],
   "source": [
    "from typing import Annotated, TypedDict\n",
    "import operator\n",
    "from langchain_core.messages import AnyMessage\n",
    "from langgraph.graph.message import add_messages\n",
    "\n",
    "class GraphState(TypedDict):\n",
    "    \"\"\"State of the graph.\"\"\"\n",
    "    query: str    \n",
    "    final_answer: str\n",
    "    # intermediate_steps: Annotated[list[tuple[AgentAction, str]], operator.add]\n",
    "    messages: Annotated[list[AnyMessage], operator.add]\n"
   ]
  },
  {
   "cell_type": "code",
   "execution_count": 31,
   "metadata": {},
   "outputs": [
    {
     "data": {
      "image/png": "[encoded data removed]",
      "text/plain": [
       "<IPython.core.display.Image object>"
      ]
     },
     "metadata": {},
     "output_type": "display_data"
    }
   ],
   "source": [
    "from langgraph.graph import START, StateGraph\n",
    "from langgraph.prebuilt import tools_condition # this is the checker for the\n",
    "from langgraph.prebuilt import ToolNode\n",
    "\n",
    "\n",
    "# Graph\n",
    "workflow = StateGraph(GraphState)\n",
    "\n",
    "# Add Nodes\n",
    "workflow.add_node(\"reasoner\", reasoner2)\n",
    "workflow.add_node(\"tools\", ToolNode(tools)) # for the tools\n",
    "\n",
    "# Add Edges\n",
    "workflow.add_edge(START, \"reasoner\")\n",
    "workflow.add_conditional_edges(\n",
    "    \"reasoner\",\n",
    "    # If the latest message (result) from node reasoner is a tool call -> tools_condition routes to tools\n",
    "    # If the latest message (result) from node reasoner is a not a tool call -> tools_condition routes to END\n",
    "    tools_condition,\n",
    ")\n",
    "workflow.add_edge(\"tools\", \"reasoner\")\n",
    "react_graph = workflow.compile()\n",
    "\n",
    "# Show\n",
    "display(Image(react_graph.get_graph(xray=True).draw_mermaid_png()))"
   ]
  },
  {
   "cell_type": "code",
   "execution_count": null,
   "metadata": {},
   "outputs": [
    {
     "name": "stdout",
     "output_type": "stream",
     "text": [
      "{'query': 'What is 2 times height of the Eiffel Tower?', 'messages': [HumanMessage(content='What is 2 times height of the Eiffel Tower?', additional_kwargs={}, response_metadata={}), AIMessage(content='', additional_kwargs={'tool_calls': [{'id': 'call_ITP1P2fk8F9z251MXzPi492k', 'function': {'arguments': '{\"query\":\"height of the Eiffel Tower\"}', 'name': 'duckduckgo_search'}, 'type': 'function'}], 'refusal': None}, response_metadata={'token_usage': {'completion_tokens': 22, 'prompt_tokens': 190, 'total_tokens': 212, 'completion_tokens_details': {'accepted_prediction_tokens': 0, 'audio_tokens': 0, 'reasoning_tokens': 0, 'rejected_prediction_tokens': 0}, 'prompt_tokens_details': {'audio_tokens': 0, 'cached_tokens': 0}}, 'model_name': 'gpt-4o-mini-2024-07-18', 'system_fingerprint': 'fp_06737a9306', 'finish_reason': 'tool_calls', 'logprobs': None}, id='run-d9aa3e44-676e-4a5f-b8a0-7c122a00ba08-0', tool_calls=[{'name': 'duckduckgo_search', 'args': {'query': 'height of the Eiffel Tower'}, 'id': 'call_ITP1P2fk8F9z251MXzPi492k', 'type': 'tool_call'}], usage_metadata={'input_tokens': 190, 'output_tokens': 22, 'total_tokens': 212, 'input_token_details': {'audio': 0, 'cache_read': 0}, 'output_token_details': {'audio': 0, 'reasoning': 0}}), ToolMessage(content=\"Eiffel Tower: 330 m (1,080 ft) [4] 1889: Lattice Tower ... Tower Pinnacle height Year Country City Remarks Sapporo TV Tower: 147.2 m 1957 Learn about the height of the Eiffel Tower, how it was constructed, and why it is a symbol of Paris. Find out how its height varies with temperature, how it compares to other landmarks, and how it changed over time. The official height of the Eiffel Tower is 984 feet. However, if you include the broadcast antenna that now sits at the top, the entire tower measures approximately 1,083 feet. It recently had an upgraded antenna installed in 2022, which is six feet taller than the one it replaced. This means the entire monument is now the tallest it has ever been! Eiffel's tower initial height was 985 feet. In March 1889, upon its completion, the Tower measured 300 metres (985 feet) high. The fact is that this measurement isn't static, cold weather can shrink the Tower by up to six inches. 10. It was the tallest structure in the world. The Eiffel Tower is an iron lattice tower located in Paris, France, designed by engineer Gustave Eiffel. It stands at a height of 1,083 feet (330 meters) and is a global cultural icon of France. The construction of the Eiffel Tower began in 1887 and was completed in 1889 for the Exposition Universelle, a world's fair marking the 100th anniversary of the French Revolution.\", name='duckduckgo_search', tool_call_id='call_ITP1P2fk8F9z251MXzPi492k'), HumanMessage(content='What is 2 times height of the Eiffel Tower?', additional_kwargs={}, response_metadata={}), AIMessage(content='', additional_kwargs={'tool_calls': [{'id': 'call_rc4h0eWG42gfNR5uyi6Rrl63', 'function': {'arguments': '{\"a\":330,\"b\":2}', 'name': 'multiply'}, 'type': 'function'}], 'refusal': None}, response_metadata={'token_usage': {'completion_tokens': 18, 'prompt_tokens': 552, 'total_tokens': 570, 'completion_tokens_details': {'accepted_prediction_tokens': 0, 'audio_tokens': 0, 'reasoning_tokens': 0, 'rejected_prediction_tokens': 0}, 'prompt_tokens_details': {'audio_tokens': 0, 'cached_tokens': 0}}, 'model_name': 'gpt-4o-mini-2024-07-18', 'system_fingerprint': 'fp_06737a9306', 'finish_reason': 'tool_calls', 'logprobs': None}, id='run-7e58ccba-6b63-4b5c-83f6-192582e8001c-0', tool_calls=[{'name': 'multiply', 'args': {'a': 330, 'b': 2}, 'id': 'call_rc4h0eWG42gfNR5uyi6Rrl63', 'type': 'tool_call'}], usage_metadata={'input_tokens': 552, 'output_tokens': 18, 'total_tokens': 570, 'input_token_details': {'audio': 0, 'cache_read': 0}, 'output_token_details': {'audio': 0, 'reasoning': 0}}), ToolMessage(content='660', name='multiply', tool_call_id='call_rc4h0eWG42gfNR5uyi6Rrl63'), HumanMessage(content='What is 2 times height of the Eiffel Tower?', additional_kwargs={}, response_metadata={}), AIMessage(content='2 times the height of the Eiffel Tower (330 meters) is 660 meters.', additional_kwargs={'refusal': None}, response_metadata={'token_usage': {'completion_tokens': 19, 'prompt_tokens': 592, 'total_tokens': 611, 'completion_tokens_details': {'accepted_prediction_tokens': 0, 'audio_tokens': 0, 'reasoning_tokens': 0, 'rejected_prediction_tokens': 0}, 'prompt_tokens_details': {'audio_tokens': 0, 'cached_tokens': 0}}, 'model_name': 'gpt-4o-mini-2024-07-18', 'system_fingerprint': 'fp_06737a9306', 'finish_reason': 'stop', 'logprobs': None}, id='run-c8a08107-5b48-494b-a9e4-b40e30cf1ace-0', usage_metadata={'input_tokens': 592, 'output_tokens': 19, 'total_tokens': 611, 'input_token_details': {'audio': 0, 'cache_read': 0}, 'output_token_details': {'audio': 0, 'reasoning': 0}})]}\n"
     ]
    }
   ],
   "source": [
    "response = react_graph.invoke({\"query\": \"What is 2 times height of the Eiffel Tower?\"})   \n",
    "# response['messages'].pretty_print()\n",
    "print(response)"
   ]
  },
  {
   "cell_type": "code",
   "execution_count": 37,
   "metadata": {},
   "outputs": [
    {
     "name": "stdout",
     "output_type": "stream",
     "text": [
      "================================\u001b[1m Human Message \u001b[0m=================================\n",
      "\n",
      "What is 2 times height of the Eiffel Tower?\n",
      "==================================\u001b[1m Ai Message \u001b[0m==================================\n",
      "Tool Calls:\n",
      "  duckduckgo_search (call_ITP1P2fk8F9z251MXzPi492k)\n",
      " Call ID: call_ITP1P2fk8F9z251MXzPi492k\n",
      "  Args:\n",
      "    query: height of the Eiffel Tower\n",
      "=================================\u001b[1m Tool Message \u001b[0m=================================\n",
      "Name: duckduckgo_search\n",
      "\n",
      "Eiffel Tower: 330 m (1,080 ft) [4] 1889: Lattice Tower ... Tower Pinnacle height Year Country City Remarks Sapporo TV Tower: 147.2 m 1957 Learn about the height of the Eiffel Tower, how it was constructed, and why it is a symbol of Paris. Find out how its height varies with temperature, how it compares to other landmarks, and how it changed over time. The official height of the Eiffel Tower is 984 feet. However, if you include the broadcast antenna that now sits at the top, the entire tower measures approximately 1,083 feet. It recently had an upgraded antenna installed in 2022, which is six feet taller than the one it replaced. This means the entire monument is now the tallest it has ever been! Eiffel's tower initial height was 985 feet. In March 1889, upon its completion, the Tower measured 300 metres (985 feet) high. The fact is that this measurement isn't static, cold weather can shrink the Tower by up to six inches. 10. It was the tallest structure in the world. The Eiffel Tower is an iron lattice tower located in Paris, France, designed by engineer Gustave Eiffel. It stands at a height of 1,083 feet (330 meters) and is a global cultural icon of France. The construction of the Eiffel Tower began in 1887 and was completed in 1889 for the Exposition Universelle, a world's fair marking the 100th anniversary of the French Revolution.\n",
      "================================\u001b[1m Human Message \u001b[0m=================================\n",
      "\n",
      "What is 2 times height of the Eiffel Tower?\n",
      "==================================\u001b[1m Ai Message \u001b[0m==================================\n",
      "Tool Calls:\n",
      "  multiply (call_rc4h0eWG42gfNR5uyi6Rrl63)\n",
      " Call ID: call_rc4h0eWG42gfNR5uyi6Rrl63\n",
      "  Args:\n",
      "    a: 330\n",
      "    b: 2\n",
      "=================================\u001b[1m Tool Message \u001b[0m=================================\n",
      "Name: multiply\n",
      "\n",
      "660\n",
      "================================\u001b[1m Human Message \u001b[0m=================================\n",
      "\n",
      "What is 2 times height of the Eiffel Tower?\n",
      "==================================\u001b[1m Ai Message \u001b[0m==================================\n",
      "\n",
      "2 times the height of the Eiffel Tower (330 meters) is 660 meters.\n"
     ]
    }
   ],
   "source": [
    "for m in response['messages']:\n",
    "    m.pretty_print()"
   ]
  },
  {
   "cell_type": "markdown",
   "metadata": {},
   "source": [
    "# Sourcing Agent Build"
   ]
  },
  {
   "cell_type": "markdown",
   "metadata": {},
   "source": [
    "Agent: \n",
    "Resume sourcing from a set of job requirement and a set of resume\n",
    "\n",
    "Inputs: \n",
    "- linkedin profile(s) as resume\n",
    "- job requirement\n",
    "\n",
    "Tasks:\n",
    "- Get linkedin profile and safe\n",
    "- Evaluate the resume to the job requirement, score\n",
    "- Decide to send email or not from score\n",
    "- Write email, some initial questions from the resume screening process\n",
    "- Send email\n",
    "\n",
    "Tools:\n",
    "- Web scrape, linkedin\n",
    "- Profile reader/writer to document\n",
    "- Job requirement reader/retrieval?\n",
    "- Send Email\n",
    "\n",
    "\n",
    "\n",
    "\n",
    "\n"
   ]
  },
  {
   "cell_type": "code",
   "execution_count": 5,
   "metadata": {},
   "outputs": [],
   "source": [
    "from typing import Dict, List, Tuple, Any, Annotated, TypedDict\n",
    "from langchain_core.messages import BaseMessage, HumanMessage, AIMessage, AnyMessage\n",
    "from langchain_core.tools import BaseTool\n",
    "from langgraph.graph import START, StateGraph, END\n",
    "from langchain_core.agents import AgentAction, AgentFinish\n",
    "from langchain_openai import ChatOpenAI\n",
    "import operator\n",
    "from langchain_core.utils.function_calling import convert_to_openai_function\n",
    "from langchain_core.prompts import ChatPromptTemplate, MessagesPlaceholder\n",
    "\n",
    "from langgraph.graph.message import add_messages\n",
    "from langgraph.prebuilt import tools_condition # this is the checker for the\n",
    "from langgraph.prebuilt import ToolNode\n",
    "\n",
    "from langgraph.graph import MessagesState\n",
    "from langchain_core.messages import HumanMessage, SystemMessage\n",
    "\n",
    "from IPython.display import Image, display"
   ]
  },
  {
   "cell_type": "code",
   "execution_count": null,
   "metadata": {},
   "outputs": [],
   "source": [
    "# Tools\n",
    "\n",
    "def pull_resume(linkedin_URL: int) -> str:\n",
    "    \"\"\"pull linkedin profile from a linkedin profile URL.\n",
    "\n",
    "    Args:\n",
    "        linkedin_URL: URL of linkedin profile        \n",
    "    \"\"\"\n",
    "\n",
    "    profile_raw = \"\"\n",
    "\n",
    "    return profile_raw\n",
    "\n",
    "def pull_job_desc() -> str:\n",
    "    \"\"\"no argument, just do pull job description for current task.\n",
    "\n",
    "    Args:\n",
    "          \n",
    "    \"\"\"\n",
    "\n",
    "    profile_raw = \"\"\n",
    "\n",
    "    return profile_raw"
   ]
  },
  {
   "cell_type": "code",
   "execution_count": 4,
   "metadata": {},
   "outputs": [
    {
     "ename": "PydanticUserError",
     "evalue": "Field 'name' defined on a base class was overridden by a non-annotated attribute. All field definitions, including overrides, require a type annotation.\n\nFor further information visit https://errors.pydantic.dev/2.10/u/model-field-overridden",
     "output_type": "error",
     "traceback": [
      "\u001b[31m---------------------------------------------------------------------------\u001b[39m",
      "\u001b[31mPydanticUserError\u001b[39m                         Traceback (most recent call last)",
      "\u001b[36mCell\u001b[39m\u001b[36m \u001b[39m\u001b[32mIn[4]\u001b[39m\u001b[32m, line 12\u001b[39m\n\u001b[32m      9\u001b[39m         \u001b[38;5;28mself\u001b[39m.should_continue: \u001b[38;5;28mbool\u001b[39m = \u001b[38;5;28;01mTrue\u001b[39;00m\n\u001b[32m     11\u001b[39m \u001b[38;5;66;03m# Tools for the agent\u001b[39;00m\n\u001b[32m---> \u001b[39m\u001b[32m12\u001b[39m \u001b[38;5;28;43;01mclass\u001b[39;49;00m\u001b[38;5;250;43m \u001b[39;49m\u001b[34;43;01mProfileEvaluatorTool\u001b[39;49;00m\u001b[43m(\u001b[49m\u001b[43mBaseTool\u001b[49m\u001b[43m)\u001b[49m\u001b[43m:\u001b[49m\n\u001b[32m     13\u001b[39m \u001b[43m    \u001b[49m\u001b[43mname\u001b[49m\u001b[43m \u001b[49m\u001b[43m=\u001b[49m\u001b[43m \u001b[49m\u001b[33;43m\"\u001b[39;49m\u001b[33;43mprofile_evaluator\u001b[39;49m\u001b[33;43m\"\u001b[39;49m\n\u001b[32m     14\u001b[39m \u001b[43m    \u001b[49m\u001b[43mdescription\u001b[49m\u001b[43m \u001b[49m\u001b[43m=\u001b[49m\u001b[43m \u001b[49m\u001b[33;43m\"\u001b[39;49m\u001b[33;43mEvaluates a LinkedIn profile against job requirements and returns a score and analysis\u001b[39;49m\u001b[33;43m\"\u001b[39;49m\n",
      "\u001b[36mFile \u001b[39m\u001b[32mc:\\Users\\w4rlo\\Documents\\Workspace\\MSc\\!FinalProject\\langgraph-recruit1-proj\\langgraph-rec1-venv\\Lib\\site-packages\\pydantic\\_internal\\_model_construction.py:113\u001b[39m, in \u001b[36mModelMetaclass.__new__\u001b[39m\u001b[34m(mcs, cls_name, bases, namespace, __pydantic_generic_metadata__, __pydantic_reset_parent_namespace__, _create_model_module, **kwargs)\u001b[39m\n\u001b[32m    111\u001b[39m config_wrapper = ConfigWrapper.for_model(bases, namespace, kwargs)\n\u001b[32m    112\u001b[39m namespace[\u001b[33m'\u001b[39m\u001b[33mmodel_config\u001b[39m\u001b[33m'\u001b[39m] = config_wrapper.config_dict\n\u001b[32m--> \u001b[39m\u001b[32m113\u001b[39m private_attributes = \u001b[43minspect_namespace\u001b[49m\u001b[43m(\u001b[49m\n\u001b[32m    114\u001b[39m \u001b[43m    \u001b[49m\u001b[43mnamespace\u001b[49m\u001b[43m,\u001b[49m\u001b[43m \u001b[49m\u001b[43mconfig_wrapper\u001b[49m\u001b[43m.\u001b[49m\u001b[43mignored_types\u001b[49m\u001b[43m,\u001b[49m\u001b[43m \u001b[49m\u001b[43mclass_vars\u001b[49m\u001b[43m,\u001b[49m\u001b[43m \u001b[49m\u001b[43mbase_field_names\u001b[49m\n\u001b[32m    115\u001b[39m \u001b[43m\u001b[49m\u001b[43m)\u001b[49m\n\u001b[32m    116\u001b[39m \u001b[38;5;28;01mif\u001b[39;00m private_attributes \u001b[38;5;129;01mor\u001b[39;00m base_private_attributes:\n\u001b[32m    117\u001b[39m     original_model_post_init = get_model_post_init(namespace, bases)\n",
      "\u001b[36mFile \u001b[39m\u001b[32mc:\\Users\\w4rlo\\Documents\\Workspace\\MSc\\!FinalProject\\langgraph-recruit1-proj\\langgraph-rec1-venv\\Lib\\site-packages\\pydantic\\_internal\\_model_construction.py:440\u001b[39m, in \u001b[36minspect_namespace\u001b[39m\u001b[34m(namespace, ignored_types, base_class_vars, base_class_fields)\u001b[39m\n\u001b[32m    438\u001b[39m \u001b[38;5;28;01melif\u001b[39;00m var_name \u001b[38;5;129;01mnot\u001b[39;00m \u001b[38;5;129;01min\u001b[39;00m raw_annotations:\n\u001b[32m    439\u001b[39m     \u001b[38;5;28;01mif\u001b[39;00m var_name \u001b[38;5;129;01min\u001b[39;00m base_class_fields:\n\u001b[32m--> \u001b[39m\u001b[32m440\u001b[39m         \u001b[38;5;28;01mraise\u001b[39;00m PydanticUserError(\n\u001b[32m    441\u001b[39m             \u001b[33mf\u001b[39m\u001b[33m'\u001b[39m\u001b[33mField \u001b[39m\u001b[38;5;132;01m{\u001b[39;00mvar_name\u001b[38;5;132;01m!r}\u001b[39;00m\u001b[33m defined on a base class was overridden by a non-annotated attribute. \u001b[39m\u001b[33m'\u001b[39m\n\u001b[32m    442\u001b[39m             \u001b[33mf\u001b[39m\u001b[33m'\u001b[39m\u001b[33mAll field definitions, including overrides, require a type annotation.\u001b[39m\u001b[33m'\u001b[39m,\n\u001b[32m    443\u001b[39m             code=\u001b[33m'\u001b[39m\u001b[33mmodel-field-overridden\u001b[39m\u001b[33m'\u001b[39m,\n\u001b[32m    444\u001b[39m         )\n\u001b[32m    445\u001b[39m     \u001b[38;5;28;01melif\u001b[39;00m \u001b[38;5;28misinstance\u001b[39m(value, FieldInfo):\n\u001b[32m    446\u001b[39m         \u001b[38;5;28;01mraise\u001b[39;00m PydanticUserError(\n\u001b[32m    447\u001b[39m             \u001b[33mf\u001b[39m\u001b[33m'\u001b[39m\u001b[33mField \u001b[39m\u001b[38;5;132;01m{\u001b[39;00mvar_name\u001b[38;5;132;01m!r}\u001b[39;00m\u001b[33m requires a type annotation\u001b[39m\u001b[33m'\u001b[39m, code=\u001b[33m'\u001b[39m\u001b[33mmodel-field-missing-annotation\u001b[39m\u001b[33m'\u001b[39m\n\u001b[32m    448\u001b[39m         )\n",
      "\u001b[31mPydanticUserError\u001b[39m: Field 'name' defined on a base class was overridden by a non-annotated attribute. All field definitions, including overrides, require a type annotation.\n\nFor further information visit https://errors.pydantic.dev/2.10/u/model-field-overridden"
     ]
    }
   ],
   "source": [
    "llm = ChatOpenAI(model=\"gpt-4o-mini\")\n",
    "\n",
    "tools = [pull_resume, pull_job_desc]\n",
    "llm_with_tools = llm.bind_tools(tools)\n",
    "\n",
    "sys_msg = SystemMessage(content=\"You are a helpful assistant tasked with sourcing candidate resume, evaluate his/her resume to the job posting, and deciding if they suit the position or not.\")\n",
    "\n",
    "def sourcing_agent(state: MessagesState):\n",
    "    return {\"messages\": [llm_with_tools.invoke([sys_msg] + state[\"messages\"])]}\n",
    "\n",
    "builder = StateGraph(MessagesState)\n",
    "\n",
    "builder.add_node(\"sourcing_agent\", sourcing_agent)\n",
    "builder.add_node(\"tools\", ToolNode(tools))\n",
    "\n",
    "builder.add_edge(START, \"sourcing_agent\") \n",
    "builder.add_conditional_edges( #conditional edge for tool\n",
    "    \"sourcing_agent\", \n",
    "    tools_condition\n",
    ")\n",
    "builder.add_edge(\"tools\", \"sourcing_agent\") #back to agent\n",
    "\n",
    "react_graph = builder.compile()\n",
    "\n",
    "display(Image(react_graph.get_graph(xray=True).draw_mermaid_png()))\n",
    "for m in response['messages']:\n",
    "    m.pretty_print()"
   ]
  },
  {
   "cell_type": "code",
   "execution_count": null,
   "metadata": {},
   "outputs": [],
   "source": [
    "messages = [HumanMessage(content=\"What is 2 times height of the Eiffel Tower?\")]\n",
    "messages = react_graph.invoke({\"messages\": messages})   "
   ]
  },
  {
   "cell_type": "code",
   "execution_count": null,
   "metadata": {},
   "outputs": [],
   "source": [
    "for m in messages['messages']:\n",
    "    m.pretty_print()"
   ]
  },
  {
   "cell_type": "code",
   "execution_count": null,
   "metadata": {},
   "outputs": [],
   "source": []
  },
  {
   "cell_type": "code",
   "execution_count": null,
   "metadata": {},
   "outputs": [],
   "source": []
  }
 ],
 "metadata": {
  "kernelspec": {
   "display_name": "LangGraph-Rec1",
   "language": "python",
   "name": "langgraph-rec1-venv"
  },
  "language_info": {
   "codemirror_mode": {
    "name": "ipython",
    "version": 3
   },
   "file_extension": ".py",
   "mimetype": "text/x-python",
   "name": "python",
   "nbconvert_exporter": "python",
   "pygments_lexer": "ipython3",
   "version": "3.11.9"
  }
 },
 "nbformat": 4,
 "nbformat_minor": 2
}
